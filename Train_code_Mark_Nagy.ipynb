{
  "nbformat": 4,
  "nbformat_minor": 0,
  "metadata": {
    "colab": {
      "private_outputs": true,
      "provenance": []
    },
    "kernelspec": {
      "name": "python3",
      "display_name": "Python 3"
    },
    "language_info": {
      "name": "python"
    }
  },
  "cells": [
    {
      "cell_type": "code",
      "execution_count": null,
      "metadata": {
        "id": "bOoMZIUY298c"
      },
      "outputs": [],
      "source": [
        "name = input(\"Please Enter Your Name: \")\n",
        "print(\"اهلا بيك يا\",name, \"سعيدين بوجودك\")"
      ]
    },
    {
      "cell_type": "code",
      "source": [
        "frist_number = int(input(\"Please Enter The Frist Number : \"))\n",
        "operation = input(\"Please Enter Type of operation : \")\n",
        "secomd_number = int(input(\"Please Enter The Second Number : \"))\n",
        "if operation == \"-\":\n",
        "  print(\"result =\",frist_number - secomd_number)\n",
        "elif operation == \"*\":\n",
        "  print(\"result =\",frist_number * secomd_number)\n",
        "elif operation == \"/\":\n",
        "  print(\"result =\",frist_number / secomd_number)\n",
        "elif operation == \"+\":\n",
        "  print(\"result =\",frist_number + secomd_number)\n",
        "else:\n",
        "  print(\"Error in your data pleace try agine and enter correct data\")"
      ],
      "metadata": {
        "id": "ogZbRB-I3I9p"
      },
      "execution_count": null,
      "outputs": []
    },
    {
      "cell_type": "code",
      "source": [
        "import random\n",
        "name1 = input(\"please Enter the first name: \")\n",
        "name2 = input(\"please Enter the second name: \")\n",
        "name3 = input(\"please Enter the third name: \")\n",
        "names = [name1 , name2 , name3]\n",
        "chosen_name = random.choice(names)\n",
        "print(\"The chosen name is:\", chosen_name)"
      ],
      "metadata": {
        "id": "HfeP29ud-Rmk"
      },
      "execution_count": null,
      "outputs": []
    },
    {
      "cell_type": "code",
      "source": [
        "number = int(input(\"Enter The Number : \"))\n",
        "for n in range(1, 13):\n",
        "    print(f\"{number} × {n} = {number * n}\")"
      ],
      "metadata": {
        "id": "-66iN7Pq93Gk"
      },
      "execution_count": null,
      "outputs": []
    },
    {
      "cell_type": "code",
      "source": [
        "sentence = input(\"Enter the sentence: \")\n",
        "words = sentence.split()\n",
        "print(\"The number of words in the sentence is:\", len(words))"
      ],
      "metadata": {
        "id": "kHX1pOWV-aKc"
      },
      "execution_count": null,
      "outputs": []
    },
    {
      "cell_type": "code",
      "source": [
        "birth_year = int(input(\"Enter your birth year: \"))\n",
        "current_year = 2024\n",
        "age = current_year - birth_year\n",
        "print(\"Your age is:\", age)"
      ],
      "metadata": {
        "id": "NbKhqi_F_hOF"
      },
      "execution_count": null,
      "outputs": []
    },
    {
      "cell_type": "code",
      "source": [
        "number = int(input(\"Enter a number: \"))\n",
        "total = sum(range(1, number + 1))\n",
        "print(\"The sum of numbers from 1 to\", number, \"is:\", total)"
      ],
      "metadata": {
        "id": "258aJ8QTECzi"
      },
      "execution_count": null,
      "outputs": []
    },
    {
      "cell_type": "code",
      "source": [
        "num1 = int(input(\"Enter the first number: \"))\n",
        "num2 = int(input(\"Enter the second number: \"))\n",
        "num3 = int(input(\"Enter the third number: \"))\n",
        "largest = max(num1, num2, num3)\n",
        "print(\"The largest number is:\", largest)"
      ],
      "metadata": {
        "id": "dMmKDq02EGjB"
      },
      "execution_count": null,
      "outputs": []
    },
    {
      "cell_type": "code",
      "source": [
        "subject1 = float(input(\"Enter grade for subject 1: \"))\n",
        "subject2 = float(input(\"Enter grade for subject 2: \"))\n",
        "subject3 = float(input(\"Enter grade for subject 3: \"))\n",
        "average = (subject1 + subject2 + subject3) / 3\n",
        "print(\"The average grade is:\", average)"
      ],
      "metadata": {
        "id": "7-r95vKgEV6K"
      },
      "execution_count": null,
      "outputs": []
    }
  ]
}